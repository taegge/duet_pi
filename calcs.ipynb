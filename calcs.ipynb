{
 "cells": [
  {
   "cell_type": "code",
   "execution_count": 50,
   "id": "8f0e4b77",
   "metadata": {},
   "outputs": [
    {
     "name": "stdout",
     "output_type": "stream",
     "text": [
      "V_out: 24    R_H: 100000   R_L: 3448.2758620689656\n"
     ]
    }
   ],
   "source": [
    "# 24v Output voltage\n",
    "R_H= 100000\n",
    "V_out= 24\n",
    "V_fb = 0.8\n",
    "\n",
    "R_L = (R_H) *(V_fb/(V_out-V_fb))\n",
    "\n",
    "print(f'V_out: {V_out}    R_H: {R_H}   R_L: {R_L}')"
   ]
  },
  {
   "cell_type": "code",
   "execution_count": 68,
   "id": "4d41f02b",
   "metadata": {},
   "outputs": [
    {
     "name": "stdout",
     "output_type": "stream",
     "text": [
      "V_out: 12.0    R_H: 100000   R_L: 7142.857142857144\n"
     ]
    }
   ],
   "source": [
    "# 12v Output voltage\n",
    "R_H= 100000\n",
    "V_out= 12.\n",
    "V_fb = 0.8\n",
    "\n",
    "R_L = (R_H) *(V_fb/(V_out-V_fb))\n",
    "\n",
    "print(f'V_out: {V_out}    R_H: {R_H}   R_L: {R_L}')"
   ]
  },
  {
   "cell_type": "code",
   "execution_count": 64,
   "id": "0995b1ae",
   "metadata": {},
   "outputs": [
    {
     "name": "stdout",
     "output_type": "stream",
     "text": [
      "V_out: 5    R_H: 100000   R_L: 19047.619047619046\n"
     ]
    }
   ],
   "source": [
    "# 5v Output voltage\n",
    "R_H= 100000\n",
    "V_out= 5\n",
    "V_fb = 0.8\n",
    "\n",
    "R_L = (R_H) *(V_fb/(V_out-V_fb))\n",
    "\n",
    "print(f'V_out: {V_out}    R_H: {R_H}   R_L: {R_L}')"
   ]
  },
  {
   "cell_type": "code",
   "execution_count": 48,
   "id": "ec9124af",
   "metadata": {},
   "outputs": [
    {
     "name": "stdout",
     "output_type": "stream",
     "text": [
      "Tss = 0.01270588235294118\n"
     ]
    }
   ],
   "source": [
    "#Soft start\n",
    "\n",
    "Iss = .0000017 #1.7 uA\n",
    "Vref = 2.7\n",
    "Css = 10000*10**-12 # 10000pF\n",
    "\n",
    "Tss = Vref * Css * (.9 - .1)/Iss\n",
    "print(f'Tss = {Tss}')"
   ]
  },
  {
   "cell_type": "code",
   "execution_count": 44,
   "id": "c15248d5",
   "metadata": {},
   "outputs": [
    {
     "name": "stdout",
     "output_type": "stream",
     "text": [
      "freq = 416666.6666666667 Hz\n"
     ]
    }
   ],
   "source": [
    "#switching frequency\n",
    "k = 10**11\n",
    "R_rt = 240*1000 \n",
    "\n",
    "f = k / R_rt\n",
    "\n",
    "print(f'freq = {f} Hz')"
   ]
  }
 ],
 "metadata": {
  "kernelspec": {
   "display_name": "Python 3 (ipykernel)",
   "language": "python",
   "name": "python3"
  },
  "language_info": {
   "codemirror_mode": {
    "name": "ipython",
    "version": 3
   },
   "file_extension": ".py",
   "mimetype": "text/x-python",
   "name": "python",
   "nbconvert_exporter": "python",
   "pygments_lexer": "ipython3",
   "version": "3.12.7"
  }
 },
 "nbformat": 4,
 "nbformat_minor": 5
}
